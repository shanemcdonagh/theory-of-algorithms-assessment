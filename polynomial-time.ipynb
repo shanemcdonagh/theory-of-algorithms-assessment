{
 "cells": [
  {
   "cell_type": "markdown",
   "metadata": {},
   "source": [
    "<center><h1 style=\"color: rgb(0, 91, 94);\">Polynomial Time</h1></center>\n",
    "\n",
    "<hr style=\"border-top: 2px solid rgb(0, 91, 94);\" />\n",
    "\n",
    "Within this notebook, I will be discussing <b>Polynomial Time</b> in great detail to understand and comprehend the topic by exploring the following points:\n",
    "\n",
    "<center><ul>\n",
    "    <i>\n",
    "    <li>Computational Complexity</li>\n",
    "   <li>Complexity Classes</li>\n",
    "    <li>Turing Machines\n",
    "    <ul>\n",
    "      <li>Deterministic Turing Machine</li>\n",
    "      <li>Non-Deterministic Turing Machine</li>\n",
    "    </ul>\n",
    "  </li>\n",
    "    <li>Complexity Class: P</li>\n",
    "     <li>Complexity Class: NP</li>\n",
    "     <li>Complexity Class: NP</li>\n",
    "    <li>P versus NP problem</li>\n",
    "    </i>\n",
    "</ul></center>"
   ]
  },
  {
   "cell_type": "markdown",
   "metadata": {},
   "source": [
    "<center><h2 style=\"color: rgb(0, 91, 94);\">Computational Complexity</h2></center>\n",
    "\n",
    "<hr style=\"border-top: 2px solid rgb(0, 91, 94);\" />"
   ]
  },
  {
   "cell_type": "markdown",
   "metadata": {},
   "source": [
    "<center><h2 style=\"color: rgb(0, 91, 94);\">Complexity Classes</h2></center>\n",
    "\n",
    "<hr style=\"border-top: 2px solid rgb(0, 91, 94);\" />"
   ]
  },
  {
   "cell_type": "markdown",
   "metadata": {},
   "source": [
    "<center><h2 style=\"color: rgb(0, 91, 94);\">Turing Machines</h2></center>\n",
    "\n",
    "<hr style=\"border-top: 2px solid rgb(0, 91, 94);\" />\n",
    "\n",
    "<center><h3 style=\"color: rgb(0, 91, 94);\">Deterministic Turing Machine</h3></center>\n",
    "\n",
    "<hr style=\"border-top: 1px solid rgb(0, 91, 94);\" />\n",
    "\n",
    "<center><h3 style=\"color: rgb(0, 91, 94);\">Nondeterministic Turing Machine</h3></center>\n",
    "\n",
    "<hr style=\"border-top: 1px solid rgb(0, 91, 94);\" />"
   ]
  },
  {
   "cell_type": "markdown",
   "metadata": {},
   "source": [
    "<center><h2 style=\"color: rgb(0, 91, 94);\">Complexity Class: P</h2></center>\n",
    "\n",
    "<hr style=\"border-top: 2px solid rgb(0, 91, 94);\" />"
   ]
  },
  {
   "cell_type": "markdown",
   "metadata": {},
   "source": [
    "<center><h2 style=\"color: rgb(0, 91, 94);\">Complexity Class: NP</h2></center>\n",
    "\n",
    "<hr style=\"border-top: 2px solid rgb(0, 91, 94);\" />"
   ]
  },
  {
   "cell_type": "markdown",
   "metadata": {},
   "source": [
    "<center><h2 style=\"color: rgb(0, 91, 94);\">P versus NP problem</h2></center>\n",
    "\n",
    "<hr style=\"border-top: 2px solid rgb(0, 91, 94);\" />"
   ]
  }
 ],
 "metadata": {
  "kernelspec": {
   "display_name": "Python 3 (ipykernel)",
   "language": "python",
   "name": "python3"
  },
  "language_info": {
   "codemirror_mode": {
    "name": "ipython",
    "version": 3
   },
   "file_extension": ".py",
   "mimetype": "text/x-python",
   "name": "python",
   "nbconvert_exporter": "python",
   "pygments_lexer": "ipython3",
   "version": "3.9.7"
  },
  "vscode": {
   "interpreter": {
    "hash": "594fc34c5f768284eee2b44e1f96d574473b4bfcb05b0b5476347340732ce1e9"
   }
  }
 },
 "nbformat": 4,
 "nbformat_minor": 2
}
